{
 "cells": [
  {
   "cell_type": "markdown",
   "metadata": {},
   "source": [
    "<h1 style='text-align:center'>Diabetes Dataset</h1>"
   ]
  },
  {
   "cell_type": "markdown",
   "metadata": {},
   "source": [
    "Two datasets are used in this section: load_diabetes from sklearn toy dataset and the other one is prima indiands diabetes.\n",
    "Pima Indiands: http://archive.ics.uci.edu/ml/machine-learning-databases/pima-indians-diabetes/pima-indians-diabetes.data"
   ]
  },
  {
   "cell_type": "markdown",
   "metadata": {},
   "source": [
    "## 1. Toy dataset sklearn"
   ]
  },
  {
   "cell_type": "code",
   "execution_count": 1,
   "metadata": {
    "collapsed": true
   },
   "outputs": [],
   "source": [
    "import tensorflow as tf\n",
    "import numpy as np"
   ]
  },
  {
   "cell_type": "markdown",
   "metadata": {},
   "source": [
    "#### How does the data look?"
   ]
  },
  {
   "cell_type": "code",
   "execution_count": 2,
   "metadata": {
    "collapsed": false
   },
   "outputs": [
    {
     "data": {
      "text/plain": [
       "(array([[ 0.03807591,  0.05068012,  0.06169621,  0.02187235, -0.0442235 ,\n",
       "         -0.03482076, -0.04340085, -0.00259226,  0.01990842, -0.01764613],\n",
       "        [-0.00188202, -0.04464164, -0.05147406, -0.02632783, -0.00844872,\n",
       "         -0.01916334,  0.07441156, -0.03949338, -0.06832974, -0.09220405],\n",
       "        [ 0.08529891,  0.05068012,  0.04445121, -0.00567061, -0.04559945,\n",
       "         -0.03419447, -0.03235593, -0.00259226,  0.00286377, -0.02593034],\n",
       "        [-0.08906294, -0.04464164, -0.01159501, -0.03665645,  0.01219057,\n",
       "          0.02499059, -0.03603757,  0.03430886,  0.02269202, -0.00936191],\n",
       "        [ 0.00538306, -0.04464164, -0.03638469,  0.02187235,  0.00393485,\n",
       "          0.01559614,  0.00814208, -0.00259226, -0.03199144, -0.04664087]]),\n",
       " array([ 151.,   75.,  141.,  206.,  135.]))"
      ]
     },
     "execution_count": 2,
     "metadata": {},
     "output_type": "execute_result"
    }
   ],
   "source": [
    "from sklearn.datasets import load_diabetes\n",
    "diabetes = load_diabetes()\n",
    "X, y = diabetes.data, diabetes.target\n",
    "X[:5], y[:5]"
   ]
  },
  {
   "cell_type": "code",
   "execution_count": 3,
   "metadata": {
    "collapsed": false
   },
   "outputs": [
    {
     "data": {
      "text/html": [
       "<div>\n",
       "<table border=\"1\" class=\"dataframe\">\n",
       "  <thead>\n",
       "    <tr style=\"text-align: right;\">\n",
       "      <th></th>\n",
       "      <th>age</th>\n",
       "      <th>sex</th>\n",
       "      <th>bmi</th>\n",
       "      <th>map</th>\n",
       "      <th>tc</th>\n",
       "      <th>ldl</th>\n",
       "      <th>hdl</th>\n",
       "      <th>tch</th>\n",
       "      <th>ltg</th>\n",
       "      <th>glu</th>\n",
       "    </tr>\n",
       "  </thead>\n",
       "  <tbody>\n",
       "    <tr>\n",
       "      <th>0</th>\n",
       "      <td>0.038076</td>\n",
       "      <td>0.050680</td>\n",
       "      <td>0.061696</td>\n",
       "      <td>0.021872</td>\n",
       "      <td>-0.044223</td>\n",
       "      <td>-0.034821</td>\n",
       "      <td>-0.043401</td>\n",
       "      <td>-0.002592</td>\n",
       "      <td>0.019908</td>\n",
       "      <td>-0.017646</td>\n",
       "    </tr>\n",
       "    <tr>\n",
       "      <th>1</th>\n",
       "      <td>-0.001882</td>\n",
       "      <td>-0.044642</td>\n",
       "      <td>-0.051474</td>\n",
       "      <td>-0.026328</td>\n",
       "      <td>-0.008449</td>\n",
       "      <td>-0.019163</td>\n",
       "      <td>0.074412</td>\n",
       "      <td>-0.039493</td>\n",
       "      <td>-0.068330</td>\n",
       "      <td>-0.092204</td>\n",
       "    </tr>\n",
       "    <tr>\n",
       "      <th>2</th>\n",
       "      <td>0.085299</td>\n",
       "      <td>0.050680</td>\n",
       "      <td>0.044451</td>\n",
       "      <td>-0.005671</td>\n",
       "      <td>-0.045599</td>\n",
       "      <td>-0.034194</td>\n",
       "      <td>-0.032356</td>\n",
       "      <td>-0.002592</td>\n",
       "      <td>0.002864</td>\n",
       "      <td>-0.025930</td>\n",
       "    </tr>\n",
       "    <tr>\n",
       "      <th>3</th>\n",
       "      <td>-0.089063</td>\n",
       "      <td>-0.044642</td>\n",
       "      <td>-0.011595</td>\n",
       "      <td>-0.036656</td>\n",
       "      <td>0.012191</td>\n",
       "      <td>0.024991</td>\n",
       "      <td>-0.036038</td>\n",
       "      <td>0.034309</td>\n",
       "      <td>0.022692</td>\n",
       "      <td>-0.009362</td>\n",
       "    </tr>\n",
       "    <tr>\n",
       "      <th>4</th>\n",
       "      <td>0.005383</td>\n",
       "      <td>-0.044642</td>\n",
       "      <td>-0.036385</td>\n",
       "      <td>0.021872</td>\n",
       "      <td>0.003935</td>\n",
       "      <td>0.015596</td>\n",
       "      <td>0.008142</td>\n",
       "      <td>-0.002592</td>\n",
       "      <td>-0.031991</td>\n",
       "      <td>-0.046641</td>\n",
       "    </tr>\n",
       "  </tbody>\n",
       "</table>\n",
       "</div>"
      ],
      "text/plain": [
       "        age       sex       bmi       map        tc       ldl       hdl  \\\n",
       "0  0.038076  0.050680  0.061696  0.021872 -0.044223 -0.034821 -0.043401   \n",
       "1 -0.001882 -0.044642 -0.051474 -0.026328 -0.008449 -0.019163  0.074412   \n",
       "2  0.085299  0.050680  0.044451 -0.005671 -0.045599 -0.034194 -0.032356   \n",
       "3 -0.089063 -0.044642 -0.011595 -0.036656  0.012191  0.024991 -0.036038   \n",
       "4  0.005383 -0.044642 -0.036385  0.021872  0.003935  0.015596  0.008142   \n",
       "\n",
       "        tch       ltg       glu  \n",
       "0 -0.002592  0.019908 -0.017646  \n",
       "1 -0.039493 -0.068330 -0.092204  \n",
       "2 -0.002592  0.002864 -0.025930  \n",
       "3  0.034309  0.022692 -0.009362  \n",
       "4 -0.002592 -0.031991 -0.046641  "
      ]
     },
     "execution_count": 3,
     "metadata": {},
     "output_type": "execute_result"
    }
   ],
   "source": [
    "import pandas as pd\n",
    "data = pd.DataFrame(data=X, columns='age sex bmi map tc ldl hdl tch ltg glu'.split(' '))\n",
    "data.head()\n",
    "\n",
    "#Data is already scaled\n",
    "#he dataset in scikit-learn is standarized (zero mean and unit L2 norm).\n",
    "#y is quantitative measure of disease progression one year after baseline"
   ]
  },
  {
   "cell_type": "code",
   "execution_count": 4,
   "metadata": {
    "collapsed": false
   },
   "outputs": [
    {
     "data": {
      "text/html": [
       "<div>\n",
       "<table border=\"1\" class=\"dataframe\">\n",
       "  <thead>\n",
       "    <tr style=\"text-align: right;\">\n",
       "      <th></th>\n",
       "      <th>Max</th>\n",
       "      <th>Min</th>\n",
       "    </tr>\n",
       "  </thead>\n",
       "  <tbody>\n",
       "    <tr>\n",
       "      <th>age</th>\n",
       "      <td>0.110727</td>\n",
       "      <td>-0.107226</td>\n",
       "    </tr>\n",
       "    <tr>\n",
       "      <th>sex</th>\n",
       "      <td>0.050680</td>\n",
       "      <td>-0.044642</td>\n",
       "    </tr>\n",
       "    <tr>\n",
       "      <th>bmi</th>\n",
       "      <td>0.170555</td>\n",
       "      <td>-0.090275</td>\n",
       "    </tr>\n",
       "    <tr>\n",
       "      <th>map</th>\n",
       "      <td>0.132044</td>\n",
       "      <td>-0.112400</td>\n",
       "    </tr>\n",
       "    <tr>\n",
       "      <th>tc</th>\n",
       "      <td>0.153914</td>\n",
       "      <td>-0.126781</td>\n",
       "    </tr>\n",
       "    <tr>\n",
       "      <th>ldl</th>\n",
       "      <td>0.198788</td>\n",
       "      <td>-0.115613</td>\n",
       "    </tr>\n",
       "    <tr>\n",
       "      <th>hdl</th>\n",
       "      <td>0.181179</td>\n",
       "      <td>-0.102307</td>\n",
       "    </tr>\n",
       "    <tr>\n",
       "      <th>tch</th>\n",
       "      <td>0.185234</td>\n",
       "      <td>-0.076395</td>\n",
       "    </tr>\n",
       "    <tr>\n",
       "      <th>ltg</th>\n",
       "      <td>0.133599</td>\n",
       "      <td>-0.126097</td>\n",
       "    </tr>\n",
       "    <tr>\n",
       "      <th>glu</th>\n",
       "      <td>0.135612</td>\n",
       "      <td>-0.137767</td>\n",
       "    </tr>\n",
       "  </tbody>\n",
       "</table>\n",
       "</div>"
      ],
      "text/plain": [
       "          Max       Min\n",
       "age  0.110727 -0.107226\n",
       "sex  0.050680 -0.044642\n",
       "bmi  0.170555 -0.090275\n",
       "map  0.132044 -0.112400\n",
       "tc   0.153914 -0.126781\n",
       "ldl  0.198788 -0.115613\n",
       "hdl  0.181179 -0.102307\n",
       "tch  0.185234 -0.076395\n",
       "ltg  0.133599 -0.126097\n",
       "glu  0.135612 -0.137767"
      ]
     },
     "execution_count": 4,
     "metadata": {},
     "output_type": "execute_result"
    }
   ],
   "source": [
    "#Get min/max for each column\n",
    "min_frame = data.min().to_frame()\n",
    "max_frame = data.max().to_frame()\n",
    "\n",
    "#rename columns\n",
    "max_frame.columns = ['Max']\n",
    "min_frame.columns = ['Min']\n",
    "\n",
    "#merge columns\n",
    "pd.concat([max_frame, min_frame], axis=1)"
   ]
  },
  {
   "cell_type": "markdown",
   "metadata": {},
   "source": [
    "#### Split training and test data"
   ]
  },
  {
   "cell_type": "code",
   "execution_count": 5,
   "metadata": {
    "collapsed": false
   },
   "outputs": [],
   "source": [
    "#shuffle and split\n",
    "from sklearn.model_selection import train_test_split\n",
    "X_train, X_test, y_train, y_test = train_test_split(\n",
    "    diabetes.data, diabetes.target, test_size=0.25, random_state=42)"
   ]
  },
  {
   "cell_type": "markdown",
   "metadata": {},
   "source": [
    "## Neural Network"
   ]
  },
  {
   "cell_type": "code",
   "execution_count": 6,
   "metadata": {
    "collapsed": false
   },
   "outputs": [],
   "source": [
    "#Graph\n",
    "\n",
    "# NN variables\n",
    "num_features = X_train.shape[1]\n",
    "train_size = X_train.shape[0]\n",
    "hidden_nodes = 5\n",
    "y = tf.placeholder(\"float\") #single value\n",
    "\n",
    "# input layer\n",
    "X = tf.placeholder(tf.float32, [None, num_features])\n",
    "\n",
    "# hidden layer 1\n",
    "w_1 = tf.Variable(tf.zeros([num_features, 12]))\n",
    "b_1 = tf.Variable(tf.zeros([12]))\n",
    "h_1 = tf.nn.sigmoid(tf.matmul(X, w_1) + b_1)\n",
    "\n",
    "# hidden layer 2\n",
    "w_2 = tf.Variable(tf.zeros([12, 8]))\n",
    "b_2 = tf.Variable(tf.zeros([8]))\n",
    "h_2 = tf.nn.sigmoid(tf.matmul(h_1, w_2) + b_2)\n",
    "\n",
    "# output layer\n",
    "w_3 = tf.Variable(tf.zeros([8, 1])) #one output\n",
    "y_pred = tf.matmul(h_2, w_3)\n",
    "\n",
    "# # Cost: Mean squared error\n",
    "cost = tf.reduce_sum(tf.pow(y-y_pred, 2))/(train_size)\n",
    "# cost = tf.reduce_sum(tf.pow(y_pred-y, 2))/(2*train_size)\n",
    "# cost1 = tf.reduce_sum(tf.pow(y_pred-y, 2))/(2*xxx_size)\n",
    "\n",
    "# # Gradient descent\n",
    "updates = tf.train.GradientDescentOptimizer(0.003).minimize(cost)"
   ]
  },
  {
   "cell_type": "code",
   "execution_count": 8,
   "metadata": {
    "collapsed": false
   },
   "outputs": [
    {
     "name": "stdout",
     "output_type": "stream",
     "text": [
      "Epoch: 0050 cost(test)= 207279.859375000\n",
      "Epoch: 0100 cost(test)= 207832.625000000\n",
      "Epoch: 0150 cost(test)= 208559.234375000\n",
      "Epoch: 0200 cost(test)= 208629.953125000\n",
      "Epoch: 0250 cost(test)= 208637.031250000\n",
      "Epoch: 0300 cost(test)= 208638.093750000\n"
     ]
    }
   ],
   "source": [
    "#Run\n",
    "\n",
    "init = tf.global_variables_initializer()\n",
    "sess = tf.Session()\n",
    "sess.run(init)\n",
    "\n",
    "for epoch in range(300):\n",
    "    # Train with each example\n",
    "    for i in range(len(X_train)):\n",
    "        sess.run(updates, feed_dict={X: X_train[i: i + 1], y: y_train[i: i + 1]})\n",
    "\n",
    "    # Display logs per epoch step\n",
    "    if (epoch + 1) % 50 == 0:\n",
    "        c = sess.run(cost, feed_dict={X: X_test, y: y_test})\n",
    "#         c1 = sess.run(cost, feed_dict={X: X_test[:2], y: y_test[:2]})\n",
    "#         c = sess.run(cost, feed_dict={X: X_train, y: y_train})\n",
    "#         print(\"Epoch:\", '%04d' % (epoch + 1), \"cost(tr)=\", \"{:.9f}\".format(c))\n",
    "            \n",
    "        print(\"Epoch:\", '%04d' % (epoch + 1), \"cost(test)=\", \"{:.9f}\".format(c))\n",
    "#         print(\"COST X_test 0:\", \" cost(test)=\", \"{:.9f}\".format(c1))\n",
    "#     break\n",
    "\n",
    "sess.close()"
   ]
  },
  {
   "cell_type": "markdown",
   "metadata": {},
   "source": [
    "## Load Model, predict 1 element"
   ]
  },
  {
   "cell_type": "code",
   "execution_count": null,
   "metadata": {
    "collapsed": true
   },
   "outputs": [],
   "source": []
  },
  {
   "cell_type": "markdown",
   "metadata": {
    "collapsed": true
   },
   "source": [
    "#### Lets check what the difference is from a prediction and a true value for X_test[0]:"
   ]
  },
  {
   "cell_type": "code",
   "execution_count": 82,
   "metadata": {
    "collapsed": false
   },
   "outputs": [
    {
     "data": {
      "text/plain": [
       "(array([ 0.04534098, -0.04464164, -0.00620595, -0.01599922,  0.1250187 ,\n",
       "         0.1251981 ,  0.019187  ,  0.03430886,  0.03243323, -0.0052198 ]),\n",
       " 219.0)"
      ]
     },
     "execution_count": 82,
     "metadata": {},
     "output_type": "execute_result"
    }
   ],
   "source": [
    "X_test[0], y_test[0]"
   ]
  },
  {
   "cell_type": "markdown",
   "metadata": {
    "collapsed": true
   },
   "source": [
    " "
   ]
  },
  {
   "cell_type": "markdown",
   "metadata": {
    "collapsed": true
   },
   "source": [
    " "
   ]
  },
  {
   "cell_type": "markdown",
   "metadata": {
    "collapsed": true
   },
   "source": [
    " "
   ]
  },
  {
   "cell_type": "markdown",
   "metadata": {
    "collapsed": true
   },
   "source": [
    "## 2. Pima Indians"
   ]
  },
  {
   "cell_type": "markdown",
   "metadata": {
    "collapsed": true
   },
   "source": [
    "1. Number of times pregnant \n",
    "2. Plasma glucose concentration a 2 hours in an oral glucose tolerance test \n",
    "3. Diastolic blood pressure (mm Hg) \n",
    "4. Triceps skin fold thickness (mm) \n",
    "5. 2-Hour serum insulin (mu U/ml) \n",
    "6. Body mass index (weight in kg/(height in m)^2) \n",
    "7. Diabetes pedigree function \n",
    "8. Age (years) \n",
    "9. Class variable (0 or 1) "
   ]
  },
  {
   "cell_type": "code",
   "execution_count": 1,
   "metadata": {
    "collapsed": true
   },
   "outputs": [],
   "source": [
    "import pandas as pd\n",
    "import numpy as np"
   ]
  },
  {
   "cell_type": "markdown",
   "metadata": {},
   "source": [
    "#### Load Data"
   ]
  },
  {
   "cell_type": "code",
   "execution_count": 2,
   "metadata": {
    "collapsed": false
   },
   "outputs": [],
   "source": [
    "names = ['times_pregnant', 'glucose', 'diastolic', 'tricep', 'serum_insulin', 'body_mass', 'pedigreeF', 'age', 'class']\n",
    "data = pd.read_csv('data/pima-indians-diabetes.csv', names=names)"
   ]
  },
  {
   "cell_type": "code",
   "execution_count": 3,
   "metadata": {
    "collapsed": false
   },
   "outputs": [
    {
     "data": {
      "text/html": [
       "<div>\n",
       "<table border=\"1\" class=\"dataframe\">\n",
       "  <thead>\n",
       "    <tr style=\"text-align: right;\">\n",
       "      <th></th>\n",
       "      <th>times_pregnant</th>\n",
       "      <th>glucose</th>\n",
       "      <th>diastolic</th>\n",
       "      <th>tricep</th>\n",
       "      <th>serum_insulin</th>\n",
       "      <th>body_mass</th>\n",
       "      <th>pedigreeF</th>\n",
       "      <th>age</th>\n",
       "      <th>class</th>\n",
       "    </tr>\n",
       "  </thead>\n",
       "  <tbody>\n",
       "    <tr>\n",
       "      <th>0</th>\n",
       "      <td>6</td>\n",
       "      <td>148</td>\n",
       "      <td>72</td>\n",
       "      <td>35</td>\n",
       "      <td>0</td>\n",
       "      <td>33.6</td>\n",
       "      <td>0.627</td>\n",
       "      <td>50</td>\n",
       "      <td>1</td>\n",
       "    </tr>\n",
       "    <tr>\n",
       "      <th>1</th>\n",
       "      <td>1</td>\n",
       "      <td>85</td>\n",
       "      <td>66</td>\n",
       "      <td>29</td>\n",
       "      <td>0</td>\n",
       "      <td>26.6</td>\n",
       "      <td>0.351</td>\n",
       "      <td>31</td>\n",
       "      <td>0</td>\n",
       "    </tr>\n",
       "    <tr>\n",
       "      <th>2</th>\n",
       "      <td>8</td>\n",
       "      <td>183</td>\n",
       "      <td>64</td>\n",
       "      <td>0</td>\n",
       "      <td>0</td>\n",
       "      <td>23.3</td>\n",
       "      <td>0.672</td>\n",
       "      <td>32</td>\n",
       "      <td>1</td>\n",
       "    </tr>\n",
       "    <tr>\n",
       "      <th>3</th>\n",
       "      <td>1</td>\n",
       "      <td>89</td>\n",
       "      <td>66</td>\n",
       "      <td>23</td>\n",
       "      <td>94</td>\n",
       "      <td>28.1</td>\n",
       "      <td>0.167</td>\n",
       "      <td>21</td>\n",
       "      <td>0</td>\n",
       "    </tr>\n",
       "    <tr>\n",
       "      <th>4</th>\n",
       "      <td>0</td>\n",
       "      <td>137</td>\n",
       "      <td>40</td>\n",
       "      <td>35</td>\n",
       "      <td>168</td>\n",
       "      <td>43.1</td>\n",
       "      <td>2.288</td>\n",
       "      <td>33</td>\n",
       "      <td>1</td>\n",
       "    </tr>\n",
       "  </tbody>\n",
       "</table>\n",
       "</div>"
      ],
      "text/plain": [
       "   times_pregnant  glucose  diastolic  tricep  serum_insulin  body_mass  \\\n",
       "0               6      148         72      35              0       33.6   \n",
       "1               1       85         66      29              0       26.6   \n",
       "2               8      183         64       0              0       23.3   \n",
       "3               1       89         66      23             94       28.1   \n",
       "4               0      137         40      35            168       43.1   \n",
       "\n",
       "   pedigreeF  age  class  \n",
       "0      0.627   50      1  \n",
       "1      0.351   31      0  \n",
       "2      0.672   32      1  \n",
       "3      0.167   21      0  \n",
       "4      2.288   33      1  "
      ]
     },
     "execution_count": 3,
     "metadata": {},
     "output_type": "execute_result"
    }
   ],
   "source": [
    "data[:5]"
   ]
  },
  {
   "cell_type": "markdown",
   "metadata": {},
   "source": [
    "#### Split train test"
   ]
  },
  {
   "cell_type": "code",
   "execution_count": 6,
   "metadata": {
    "collapsed": false
   },
   "outputs": [],
   "source": [
    "#Split X,y\n",
    "X = data.iloc[:, :8]\n",
    "y = data['class']\n",
    "# X = scalar.fit_transform(X)"
   ]
  },
  {
   "cell_type": "code",
   "execution_count": 7,
   "metadata": {
    "collapsed": false
   },
   "outputs": [],
   "source": [
    "#shuffle and split\n",
    "from sklearn.model_selection import train_test_split\n",
    "X_train, X_test, y_train, y_test = train_test_split(\n",
    "    X, y, test_size=0.25, random_state=42)"
   ]
  },
  {
   "cell_type": "code",
   "execution_count": 11,
   "metadata": {
    "collapsed": false
   },
   "outputs": [
    {
     "data": {
      "text/plain": [
       "357    1\n",
       "73     0\n",
       "352    0\n",
       "497    0\n",
       "145    0\n",
       "Name: class, dtype: int64"
      ]
     },
     "execution_count": 11,
     "metadata": {},
     "output_type": "execute_result"
    }
   ],
   "source": [
    "y_train[:5]"
   ]
  },
  {
   "cell_type": "code",
   "execution_count": 12,
   "metadata": {
    "collapsed": false
   },
   "outputs": [
    {
     "data": {
      "text/html": [
       "<div>\n",
       "<table border=\"1\" class=\"dataframe\">\n",
       "  <thead>\n",
       "    <tr style=\"text-align: right;\">\n",
       "      <th></th>\n",
       "      <th>times_pregnant</th>\n",
       "      <th>glucose</th>\n",
       "      <th>diastolic</th>\n",
       "      <th>tricep</th>\n",
       "      <th>serum_insulin</th>\n",
       "      <th>body_mass</th>\n",
       "      <th>pedigreeF</th>\n",
       "      <th>age</th>\n",
       "    </tr>\n",
       "  </thead>\n",
       "  <tbody>\n",
       "    <tr>\n",
       "      <th>357</th>\n",
       "      <td>13</td>\n",
       "      <td>129</td>\n",
       "      <td>0</td>\n",
       "      <td>30</td>\n",
       "      <td>0</td>\n",
       "      <td>39.9</td>\n",
       "      <td>0.569</td>\n",
       "      <td>44</td>\n",
       "    </tr>\n",
       "    <tr>\n",
       "      <th>73</th>\n",
       "      <td>4</td>\n",
       "      <td>129</td>\n",
       "      <td>86</td>\n",
       "      <td>20</td>\n",
       "      <td>270</td>\n",
       "      <td>35.1</td>\n",
       "      <td>0.231</td>\n",
       "      <td>23</td>\n",
       "    </tr>\n",
       "    <tr>\n",
       "      <th>352</th>\n",
       "      <td>3</td>\n",
       "      <td>61</td>\n",
       "      <td>82</td>\n",
       "      <td>28</td>\n",
       "      <td>0</td>\n",
       "      <td>34.4</td>\n",
       "      <td>0.243</td>\n",
       "      <td>46</td>\n",
       "    </tr>\n",
       "    <tr>\n",
       "      <th>497</th>\n",
       "      <td>2</td>\n",
       "      <td>81</td>\n",
       "      <td>72</td>\n",
       "      <td>15</td>\n",
       "      <td>76</td>\n",
       "      <td>30.1</td>\n",
       "      <td>0.547</td>\n",
       "      <td>25</td>\n",
       "    </tr>\n",
       "    <tr>\n",
       "      <th>145</th>\n",
       "      <td>0</td>\n",
       "      <td>102</td>\n",
       "      <td>75</td>\n",
       "      <td>23</td>\n",
       "      <td>0</td>\n",
       "      <td>0.0</td>\n",
       "      <td>0.572</td>\n",
       "      <td>21</td>\n",
       "    </tr>\n",
       "  </tbody>\n",
       "</table>\n",
       "</div>"
      ],
      "text/plain": [
       "     times_pregnant  glucose  diastolic  tricep  serum_insulin  body_mass  \\\n",
       "357              13      129          0      30              0       39.9   \n",
       "73                4      129         86      20            270       35.1   \n",
       "352               3       61         82      28              0       34.4   \n",
       "497               2       81         72      15             76       30.1   \n",
       "145               0      102         75      23              0        0.0   \n",
       "\n",
       "     pedigreeF  age  \n",
       "357      0.569   44  \n",
       "73       0.231   23  \n",
       "352      0.243   46  \n",
       "497      0.547   25  \n",
       "145      0.572   21  "
      ]
     },
     "execution_count": 12,
     "metadata": {},
     "output_type": "execute_result"
    }
   ],
   "source": [
    "X_train[:5]"
   ]
  },
  {
   "cell_type": "markdown",
   "metadata": {},
   "source": [
    "#### Prepare data for NN"
   ]
  },
  {
   "cell_type": "code",
   "execution_count": 10,
   "metadata": {
    "collapsed": false
   },
   "outputs": [],
   "source": [
    "#Prepare data for NN\n",
    "X_train, y_train = X_train.as_matrix(), y_train.as_matrix()\n",
    "X_test, y_test = X_test.as_matrix(), y_test.as_matrix()"
   ]
  },
  {
   "cell_type": "code",
   "execution_count": 14,
   "metadata": {
    "collapsed": false
   },
   "outputs": [],
   "source": [
    "# Scale train and test individually\n",
    "# It's not allowed to scale X and then split.\n",
    "# First split then scale, so the train and test are disjoint scalings\n",
    "from sklearn.preprocessing import StandardScaler\n",
    "scalar = StandardScaler()\n",
    "X_train = scalar.fit_transform(X_train)\n",
    "X_test = scalar.fit_transform(X_test)\n"
   ]
  },
  {
   "cell_type": "code",
   "execution_count": 17,
   "metadata": {
    "collapsed": false
   },
   "outputs": [
    {
     "data": {
      "text/plain": [
       "array([[ 0.52134871, -0.74973601, -0.45176852,  0.70763362,  0.99686588,\n",
       "         0.22908898, -0.16883507,  0.70770842],\n",
       "       [-0.6097129 , -0.30495773,  0.32350617,  0.65028214, -0.69589897,\n",
       "         0.4262795 , -1.09062651, -1.06114387],\n",
       "       [-0.6097129 , -0.43203724, -0.17814216, -1.18496521, -0.69589897,\n",
       "        -0.14209317, -1.05793887, -1.06114387],\n",
       "       [ 1.08687952, -0.46380712,  0.55152814, -1.18496521, -0.69589897,\n",
       "        -0.86125859,  1.22365839, -0.01591297],\n",
       "       [ 0.80411412,  0.45751933,  1.00757207, -1.18496521, -0.69589897,\n",
       "        -0.24648815, -0.88796314,  1.27052506]])"
      ]
     },
     "execution_count": 17,
     "metadata": {},
     "output_type": "execute_result"
    }
   ],
   "source": [
    "X_test[:5]"
   ]
  },
  {
   "cell_type": "code",
   "execution_count": 18,
   "metadata": {
    "collapsed": false
   },
   "outputs": [],
   "source": [
    "#one hot encode the y variable for NN\n",
    "#each class needs one column\n",
    "def one_encoded(X):\n",
    "    res = []\n",
    "    for i in X:\n",
    "        res.append([i, -(i-1)])\n",
    "    return res\n",
    "        \n",
    "y_train = np.array(one_encoded(y_train))\n",
    "y_test = np.array(one_encoded(y_test))"
   ]
  },
  {
   "cell_type": "code",
   "execution_count": 19,
   "metadata": {
    "collapsed": false
   },
   "outputs": [
    {
     "data": {
      "text/plain": [
       "array([[1, 0],\n",
       "       [0, 1],\n",
       "       [0, 1],\n",
       "       [0, 1],\n",
       "       [0, 1]])"
      ]
     },
     "execution_count": 19,
     "metadata": {},
     "output_type": "execute_result"
    }
   ],
   "source": [
    "#class 1 is [1, 0]\n",
    "#class 0 is [0, 1]\n",
    "y_train[:5]"
   ]
  },
  {
   "cell_type": "markdown",
   "metadata": {
    "collapsed": true
   },
   "source": [
    "#### Neural Network"
   ]
  },
  {
   "cell_type": "code",
   "execution_count": 20,
   "metadata": {
    "collapsed": true
   },
   "outputs": [],
   "source": [
    "import tensorflow as tf"
   ]
  },
  {
   "cell_type": "code",
   "execution_count": 21,
   "metadata": {
    "collapsed": true
   },
   "outputs": [],
   "source": [
    "# Helper functions\n",
    "def new_weights(shape):\n",
    "    return tf.Variable(tf.truncated_normal(shape=shape, stddev=0.05))\n",
    "def new_biases(length):\n",
    "    return tf.constant(0.05, shape=[length])\n",
    "def new_fc_layer(input,          # The previous layer.\n",
    "                 num_inputs,     # Num. inputs from prev. layer.\n",
    "                 num_outputs,    # Num. outputs.\n",
    "                 activation):    # Type of activation\n",
    "\n",
    "    weights = new_weights(shape=[num_inputs, num_outputs])\n",
    "    biases = new_biases(length=num_outputs)\n",
    "\n",
    "    layer = tf.matmul(input, weights) + biases\n",
    "\n",
    "    if activation == 'Relu':\n",
    "        layer = tf.nn.relu(layer)\n",
    "    if activation == 'Sigmoid':\n",
    "        layer = tf.nn.sigmoid(layer)\n",
    "\n",
    "    return layer"
   ]
  },
  {
   "cell_type": "code",
   "execution_count": 22,
   "metadata": {
    "collapsed": false
   },
   "outputs": [],
   "source": [
    "# placeholders and variables\n",
    "x = tf.placeholder(tf.float32, shape=[None, 8], name = 'input_x')\n",
    "y_true = tf.placeholder(tf.float32, shape=[None, 2], name='y')\n",
    "# y_true = tf.placeholder(tf.float32)"
   ]
  },
  {
   "cell_type": "code",
   "execution_count": 23,
   "metadata": {
    "collapsed": false
   },
   "outputs": [],
   "source": [
    "# Hidden Layers\n",
    "layer_fc1 = new_fc_layer(x, 8, 12, activation='Relu')\n",
    "layer_fc2 = new_fc_layer(layer_fc1, 12, 8, activation='Relu')"
   ]
  },
  {
   "cell_type": "code",
   "execution_count": 24,
   "metadata": {
    "collapsed": false
   },
   "outputs": [],
   "source": [
    "# Prediction\n",
    "y_pred = new_fc_layer(layer_fc2, 8, 2, activation='None')"
   ]
  },
  {
   "cell_type": "code",
   "execution_count": 25,
   "metadata": {
    "collapsed": false
   },
   "outputs": [],
   "source": [
    "# Cost\n",
    "cost = tf.reduce_mean(tf.nn.softmax_cross_entropy_with_logits(y_pred, y_true))"
   ]
  },
  {
   "cell_type": "code",
   "execution_count": 26,
   "metadata": {
    "collapsed": true
   },
   "outputs": [],
   "source": [
    "# Optimize\n",
    "optimizer = tf.train.AdamOptimizer(learning_rate=1e-4).minimize(cost)"
   ]
  },
  {
   "cell_type": "code",
   "execution_count": 27,
   "metadata": {
    "collapsed": true
   },
   "outputs": [],
   "source": [
    "# Performance Metric\n",
    "# correct_prediction = tf.equal(tf.argmin(y_pred, 1), tf.argmin(y_true, 1))   \n",
    "# accuracy = tf.reduce_mean(tf.cast(correct_prediction, \"float\"))"
   ]
  },
  {
   "cell_type": "code",
   "execution_count": 28,
   "metadata": {
    "collapsed": false
   },
   "outputs": [
    {
     "data": {
      "text/plain": [
       "(576, 8)"
      ]
     },
     "execution_count": 28,
     "metadata": {},
     "output_type": "execute_result"
    }
   ],
   "source": [
    "# y_test[:5]\n",
    "X_train.shape"
   ]
  },
  {
   "cell_type": "code",
   "execution_count": 29,
   "metadata": {
    "collapsed": false
   },
   "outputs": [
    {
     "name": "stdout",
     "output_type": "stream",
     "text": [
      "Epoch: 0001 cost= 0.694049877\n",
      "Epoch: 0021 cost= 0.572389882\n",
      "Epoch: 0041 cost= 0.491518956\n",
      "Epoch: 0061 cost= 0.467381400\n",
      "Epoch: 0081 cost= 0.451004713\n",
      "Epoch: 0101 cost= 0.441876919\n",
      "Epoch: 0121 cost= 0.436951418\n",
      "Epoch: 0141 cost= 0.433364190\n",
      "Epoch: 0161 cost= 0.430502170\n",
      "Epoch: 0181 cost= 0.428433959\n",
      "Epoch: 0201 cost= 0.426903761\n",
      "Epoch: 0221 cost= 0.425484567\n",
      "Epoch: 0241 cost= 0.423935158\n",
      "Epoch: 0261 cost= 0.422420031\n",
      "Epoch: 0281 cost= 0.421115068\n",
      "Epoch: 0301 cost= 0.419939759\n",
      "Epoch: 0321 cost= 0.418755901\n",
      "Epoch: 0341 cost= 0.417413632\n",
      "Epoch: 0361 cost= 0.416070496\n",
      "Epoch: 0381 cost= 0.414602478\n",
      "Epoch: 0401 cost= 0.413125103\n",
      "Epoch: 0421 cost= 0.411731318\n",
      "Epoch: 0441 cost= 0.410296634\n",
      "Epoch: 0461 cost= 0.408693609\n",
      "Epoch: 0481 cost= 0.407018275\n",
      "Epoch: 0501 cost= 0.405441168\n",
      "Epoch: 0521 cost= 0.403984454\n",
      "Epoch: 0541 cost= 0.402568757\n",
      "Epoch: 0561 cost= 0.401089223\n",
      "Epoch: 0581 cost= 0.399694845\n",
      "Epoch: 0601 cost= 0.398267872\n",
      "Epoch: 0621 cost= 0.396905833\n",
      "Epoch: 0641 cost= 0.395773200\n",
      "Epoch: 0661 cost= 0.394714646\n",
      "Epoch: 0681 cost= 0.393628541\n",
      "Epoch: 0701 cost= 0.392545369\n",
      "Epoch: 0721 cost= 0.391490900\n",
      "Epoch: 0741 cost= 0.390523805\n",
      "Epoch: 0761 cost= 0.389573116\n",
      "Epoch: 0781 cost= 0.388585523\n",
      "Epoch: 0801 cost= 0.387685823\n",
      "Epoch: 0821 cost= 0.386858228\n",
      "Epoch: 0841 cost= 0.385949830\n",
      "Epoch: 0861 cost= 0.385089534\n",
      "Epoch: 0881 cost= 0.384232312\n",
      "Epoch: 0901 cost= 0.383382091\n",
      "Epoch: 0921 cost= 0.382509588\n",
      "Epoch: 0941 cost= 0.381655744\n",
      "Epoch: 0961 cost= 0.380824720\n",
      "Epoch: 0981 cost= 0.380055176\n",
      "Optimization Finished!\n",
      "Accuracy: 0.765625\n",
      "[0 0 0 0 0 0 0 1 1 1 0 1 0 0 0 0 0 0 1 1]\n"
     ]
    }
   ],
   "source": [
    "#Run\n",
    "batch_size = 10\n",
    "training_epochs = 1000\n",
    "display_step = 20\n",
    "\n",
    "init = tf.global_variables_initializer()\n",
    "\n",
    "with tf.Session() as sess:\n",
    "    sess.run(init)\n",
    "    # Training cycle\n",
    "    for epoch in range(training_epochs):\n",
    "        avg_cost = 0.\n",
    "        total_batch = int(len(X_train)/batch_size)\n",
    "        X_batches = np.array_split(X_train, total_batch)\n",
    "        Y_batches = np.array_split(y_train, total_batch)\n",
    "        \n",
    "        # Loop over all batches\n",
    "        for i in range(total_batch):\n",
    "            batch_x, batch_y = X_batches[i], Y_batches[i]\n",
    "            # batch_y.shape = (batch_y.shape[0], 1)\n",
    "            # Run optimization op (backprop) and cost op (to get loss value)\n",
    "            _, c = sess.run([optimizer, cost], feed_dict={x: batch_x,\n",
    "                                                          y_true: batch_y})\n",
    "            # Compute average loss\n",
    "            avg_cost += c / total_batch\n",
    "            \n",
    "        # Display logs per epoch step\n",
    "        if epoch % display_step == 0:\n",
    "            print(\"Epoch:\", '%04d' % (epoch+1), \"cost=\",\"{:.9f}\".format(avg_cost))\n",
    "    print(\"Optimization Finished!\")\n",
    "\n",
    "    # Test model\n",
    "    correct_prediction = tf.equal(tf.argmin(y_pred, 1), tf.argmin(y_true, 1))\n",
    "    \n",
    "    # Calculate accuracy\n",
    "    accuracy = tf.reduce_mean(tf.cast(correct_prediction, \"float\"))\n",
    "    print(\"Accuracy:\", accuracy.eval({x: X_test, y_true: y_test}))\n",
    "#     global result \n",
    "#     result = tf.argmax(y_pred, 1).eval({X: X_test, y: y_test})1\n",
    "    result = tf.argmin(y_pred, 1) \n",
    "    print(result.eval(feed_dict={x: X_test[:20]}))"
   ]
  },
  {
   "cell_type": "code",
   "execution_count": 30,
   "metadata": {
    "collapsed": false
   },
   "outputs": [
    {
     "data": {
      "text/plain": [
       "array([[0, 1],\n",
       "       [0, 1],\n",
       "       [0, 1],\n",
       "       [0, 1],\n",
       "       [0, 1],\n",
       "       [0, 1],\n",
       "       [0, 1],\n",
       "       [0, 1],\n",
       "       [0, 1],\n",
       "       [0, 1],\n",
       "       [1, 0],\n",
       "       [0, 1],\n",
       "       [1, 0],\n",
       "       [0, 1],\n",
       "       [0, 1],\n",
       "       [1, 0],\n",
       "       [0, 1],\n",
       "       [0, 1],\n",
       "       [1, 0],\n",
       "       [1, 0]])"
      ]
     },
     "execution_count": 30,
     "metadata": {},
     "output_type": "execute_result"
    }
   ],
   "source": [
    "y_test[:20]"
   ]
  },
  {
   "cell_type": "code",
   "execution_count": null,
   "metadata": {
    "collapsed": true
   },
   "outputs": [],
   "source": []
  },
  {
   "cell_type": "code",
   "execution_count": null,
   "metadata": {
    "collapsed": true
   },
   "outputs": [],
   "source": []
  },
  {
   "cell_type": "code",
   "execution_count": null,
   "metadata": {
    "collapsed": true
   },
   "outputs": [],
   "source": []
  },
  {
   "cell_type": "code",
   "execution_count": null,
   "metadata": {
    "collapsed": true
   },
   "outputs": [],
   "source": []
  },
  {
   "cell_type": "code",
   "execution_count": null,
   "metadata": {
    "collapsed": true
   },
   "outputs": [],
   "source": []
  },
  {
   "cell_type": "code",
   "execution_count": null,
   "metadata": {
    "collapsed": true
   },
   "outputs": [],
   "source": []
  },
  {
   "cell_type": "code",
   "execution_count": null,
   "metadata": {
    "collapsed": true
   },
   "outputs": [],
   "source": []
  },
  {
   "cell_type": "code",
   "execution_count": null,
   "metadata": {
    "collapsed": true
   },
   "outputs": [],
   "source": []
  },
  {
   "cell_type": "code",
   "execution_count": null,
   "metadata": {
    "collapsed": true
   },
   "outputs": [],
   "source": []
  },
  {
   "cell_type": "code",
   "execution_count": null,
   "metadata": {
    "collapsed": true
   },
   "outputs": [],
   "source": []
  },
  {
   "cell_type": "code",
   "execution_count": null,
   "metadata": {
    "collapsed": true
   },
   "outputs": [],
   "source": []
  }
 ],
 "metadata": {
  "anaconda-cloud": {},
  "kernelspec": {
   "display_name": "Python [conda root]",
   "language": "python",
   "name": "conda-root-py"
  },
  "language_info": {
   "codemirror_mode": {
    "name": "ipython",
    "version": 3
   },
   "file_extension": ".py",
   "mimetype": "text/x-python",
   "name": "python",
   "nbconvert_exporter": "python",
   "pygments_lexer": "ipython3",
   "version": "3.5.2"
  }
 },
 "nbformat": 4,
 "nbformat_minor": 1
}
